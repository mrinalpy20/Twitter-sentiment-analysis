{
 "cells": [
  {
   "cell_type": "code",
   "execution_count": 1,
   "id": "ab27b387",
   "metadata": {},
   "outputs": [],
   "source": [
    "import pandas as pd\n",
    "from sklearn.ensemble import RandomForestClassifier\n",
    "from nltk.classify.scikitlearn import SklearnClassifier\n",
    "from sklearn.feature_extraction.text import CountVectorizer\n",
    "from sklearn.feature_extraction.text import TfidfVectorizer\n",
    "import nltk\n",
    "import numpy as np\n",
    "training_data=pd.read_csv('0000000000002747_training_twitter_x_y_train.csv')\n",
    "testing_data=pd.read_csv('0000000000002747_test_twitter_x_test.csv')\n"
   ]
  },
  {
   "cell_type": "code",
   "execution_count": 2,
   "id": "1477478c",
   "metadata": {},
   "outputs": [],
   "source": [
    "training_documents=training_data['text'].values\n",
    "training_categories=training_data['airline_sentiment'].values\n",
    "testing_documents=testing_data['text'].values"
   ]
  },
  {
   "cell_type": "code",
   "execution_count": 4,
   "id": "2c1f98ae",
   "metadata": {},
   "outputs": [],
   "source": [
    "count_vect=TfidfVectorizer(max_features=5000, max_df=0.8, min_df=0.001)\n",
    "x_train=count_vect.fit_transform(training_documents)\n",
    "x_test=count_vect.transform(testing_documents)\n",
    "y_train=training_categories"
   ]
  },
  {
   "cell_type": "code",
   "execution_count": 5,
   "id": "cf62f363",
   "metadata": {},
   "outputs": [],
   "source": [
    "clf=RandomForestClassifier(n_estimators=2000, n_jobs=-1)\n",
    "clf.fit(x_train, y_train)\n",
    "y_test=clf.predict(x_test)\n",
    "np.savetxt(fname='twitterresults.csv', X=y_test, fmt='%s')"
   ]
  },
  {
   "cell_type": "code",
   "execution_count": null,
   "id": "b1f55039",
   "metadata": {},
   "outputs": [],
   "source": []
  }
 ],
 "metadata": {
  "kernelspec": {
   "display_name": "Python 3",
   "language": "python",
   "name": "python3"
  },
  "language_info": {
   "codemirror_mode": {
    "name": "ipython",
    "version": 3
   },
   "file_extension": ".py",
   "mimetype": "text/x-python",
   "name": "python",
   "nbconvert_exporter": "python",
   "pygments_lexer": "ipython3",
   "version": "3.8.8"
  }
 },
 "nbformat": 4,
 "nbformat_minor": 5
}
